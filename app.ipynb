{
 "cells": [
  {
   "cell_type": "markdown",
   "metadata": {},
   "source": [
    "# Commonly plots using Seaborn from Python"
   ]
  },
  {
   "cell_type": "markdown",
   "metadata": {},
   "source": [
    "This script shows 10 commonly plots using Seaborn library from Python.\n",
    "1. Bar Plots\n",
    "2. Count Plots\n",
    "3. Histograms\n",
    "4. Cat Plots (Box, Violin, Swarm, Boxen)\n",
    "5. Multiple Plots using FacetGrid\n",
    "6. Joint Plots\n",
    "7. KDE Plots\n",
    "8. Pairplots\n",
    "9. Heatmaps\n",
    "10. Scatter Plots"
   ]
  },
  {
   "cell_type": "markdown",
   "metadata": {},
   "source": [
    "- Libraries"
   ]
  },
  {
   "cell_type": "code",
   "execution_count": null,
   "metadata": {},
   "outputs": [],
   "source": [
    "import pandas as pd\n",
    "import numpy as np\n",
    "import seaborn as sns\n",
    "import matplotlib\n",
    "import matplotlib.pyplot as plt\n",
    "\n",
    "%matplotlib inline"
   ]
  },
  {
   "cell_type": "markdown",
   "metadata": {},
   "source": [
    "- Import datasets"
   ]
  },
  {
   "cell_type": "code",
   "execution_count": null,
   "metadata": {},
   "outputs": [],
   "source": [
    "exercise = sns.load_dataset('exercise')\n",
    "iris = sns.load_dataset('iris')\n",
    "penguins = sns.load_dataset('penguins')\n",
    "mpg = sns.load_dataset('mpg')\n",
    "titanic = sns.load_dataset('titanic')\n",
    "tips = sns.load_dataset('tips')"
   ]
  },
  {
   "cell_type": "markdown",
   "metadata": {},
   "source": [
    "# 1) Bar plots"
   ]
  },
  {
   "cell_type": "markdown",
   "metadata": {},
   "source": [
    "Bar plots offer a means to visually represent diverse data sets, including counts, frequencies, percentages, or averages.\n",
    "\n",
    "They prove especially valuable for illustrating and contrasting data across various categories.\n",
    "\n",
    "\n",
    "\n",
    "\n"
   ]
  },
  {
   "cell_type": "code",
   "execution_count": null,
   "metadata": {},
   "outputs": [],
   "source": [
    "titanic.head(5)"
   ]
  },
  {
   "cell_type": "markdown",
   "metadata": {},
   "source": [
    "- Categorical comparison"
   ]
  },
  {
   "cell_type": "code",
   "execution_count": null,
   "metadata": {},
   "outputs": [],
   "source": [
    "# Simple bar plot\n",
    "sns.barplot(data=titanic, x='who', y='age', estimator='mean', errorbar=None, palette='viridis')\n",
    "plt.title('Simple Barplot')\n",
    "plt.xlabel('Person')\n",
    "plt.ylabel('Average')\n",
    "plt.show()"
   ]
  },
  {
   "cell_type": "markdown",
   "metadata": {},
   "source": [
    "- Proportional Representation through Stacked Bar Charts"
   ]
  },
  {
   "cell_type": "code",
   "execution_count": null,
   "metadata": {},
   "outputs": [],
   "source": [
    "# prepare dataset - groupby\n",
    "data = titanic.groupby('embark_town').agg({'who':'count','sex': lambda x: (x=='male').sum()}).reset_index()\n",
    "data.rename(columns={'who':'total', 'sex':'male'}, inplace=True)\n",
    "data.sort_values('total', inplace=True)\n"
   ]
  },
  {
   "cell_type": "code",
   "execution_count": null,
   "metadata": {},
   "outputs": [],
   "source": [
    "# Barplot Showing Part of Total\n",
    "sns.set_color_codes(\"pastel\")\n",
    "sns.barplot(x=\"total\", y=\"embark_town\", data=data,\n",
    "            label=\"Female\", color=\"b\")  \n",
    "sns.set_color_codes(\"muted\")\n",
    "sns.barplot(x=\"male\", y=\"embark_town\", data=data,\n",
    "            label=\"Male\", color=\"b\")  \n",
    "plt.title('Barplot Showing Part of Total')\n",
    "plt.xlabel('Number of Persons')\n",
    "plt.legend(loc='upper right')\n",
    "plt.show()"
   ]
  },
  {
   "cell_type": "markdown",
   "metadata": {},
   "source": [
    "- Comparison of Subcategories within each category through Clustered Bar Plots"
   ]
  },
  {
   "cell_type": "code",
   "execution_count": null,
   "metadata": {},
   "outputs": [],
   "source": [
    "# Clustered barplot\n",
    "sns.barplot(data=titanic, x='class', y='age', hue='sex', estimator='mean', errorbar=None, palette='viridis')\n",
    "plt.title('Clustered Barplot')\n",
    "plt.xlabel('Class')\n",
    "plt.ylabel('Average Age')\n",
    "plt.show()"
   ]
  },
  {
   "cell_type": "markdown",
   "metadata": {},
   "source": [
    "# 2) Count plots"
   ]
  },
  {
   "cell_type": "markdown",
   "metadata": {},
   "source": [
    "A count plot exhibits the occurrences of each category within a categorical variable.\n",
    "\n",
    "On the x-axis lie the variable's categories, while the y-axis displays the count or frequency of each category."
   ]
  },
  {
   "cell_type": "markdown",
   "metadata": {},
   "source": [
    "- Frequency Distribution of categorical variables"
   ]
  },
  {
   "cell_type": "code",
   "execution_count": null,
   "metadata": {},
   "outputs": [],
   "source": [
    "# Simple Countplot\n",
    "sns.countplot(data=titanic, x='alive', palette='viridis')\n",
    "plt.title('Simple Countplot')\n",
    "plt.show()"
   ]
  },
  {
   "cell_type": "markdown",
   "metadata": {},
   "source": [
    "- Relationship between different categorical variables"
   ]
  },
  {
   "cell_type": "code",
   "execution_count": null,
   "metadata": {},
   "outputs": [],
   "source": [
    "# Clustered Countplot\n",
    "sns.countplot(data=titanic, y=\"who\", hue=\"alive\", palette='viridis')\n",
    "plt.title('Clustered Countplot')\n",
    "plt.show()"
   ]
  },
  {
   "cell_type": "markdown",
   "metadata": {},
   "source": [
    "# 3) Histograms"
   ]
  },
  {
   "cell_type": "markdown",
   "metadata": {},
   "source": [
    "Histograms visually depict the distribution of a dataset, offering insights into its key characteristics such as normality, skewness, or presence of multiple peaks.\n",
    "\n",
    "They showcase the frequency or count of observations across various intervals or \"bins\" of the data.\n",
    "\n",
    "Let's use iris dataset."
   ]
  },
  {
   "cell_type": "code",
   "execution_count": null,
   "metadata": {},
   "outputs": [],
   "source": [
    "iris.head()"
   ]
  },
  {
   "cell_type": "markdown",
   "metadata": {},
   "source": [
    "- Visualize the shape, centre, range and spread of a continuous/numeric variable and to identify any patterns or outliers"
   ]
  },
  {
   "cell_type": "code",
   "execution_count": null,
   "metadata": {},
   "outputs": [],
   "source": [
    "# Histogram with KDE\n",
    "sns.histplot(data=iris, x='sepal_width', kde=True)\n",
    "plt.title('Histogram with KDE')\n",
    "plt.show()"
   ]
  },
  {
   "cell_type": "markdown",
   "metadata": {},
   "source": [
    "-  Compare the distribution of many continuous variables"
   ]
  },
  {
   "cell_type": "code",
   "execution_count": null,
   "metadata": {},
   "outputs": [],
   "source": [
    "# Histogram with multiple features\n",
    "sns.histplot(data=iris[['sepal_length','sepal_width']])\n",
    "plt.title('Multi-Column Histogram')\n",
    "plt.show()"
   ]
  },
  {
   "cell_type": "markdown",
   "metadata": {},
   "source": [
    "- Compare the distribution of a continuous variable for different categories"
   ]
  },
  {
   "cell_type": "code",
   "execution_count": null,
   "metadata": {},
   "outputs": [],
   "source": [
    "sns.histplot(iris, x='sepal_length', hue='species', multiple='stack', linewidth=0.5)\n",
    "plt.title('Stacked Histogram')\n",
    "plt.show()"
   ]
  },
  {
   "cell_type": "markdown",
   "metadata": {},
   "source": [
    "# 4) Cat Plots (Box, Violin, Swarm, Boxen)\n"
   ]
  },
  {
   "cell_type": "markdown",
   "metadata": {},
   "source": [
    "Catplot is a flexible higher-level function that integrates various categorical seaborn plots including boxplots, violinplots, swarmplots, pointplots, barplots, and countplots.\n",
    "\n",
    "Now, let's use tips dataset."
   ]
  },
  {
   "cell_type": "code",
   "execution_count": null,
   "metadata": {},
   "outputs": [],
   "source": [
    "tips.head()"
   ]
  },
  {
   "cell_type": "markdown",
   "metadata": {},
   "source": [
    "- Boxplot"
   ]
  },
  {
   "cell_type": "code",
   "execution_count": null,
   "metadata": {},
   "outputs": [],
   "source": [
    "# Boxplot\n",
    "sns.boxplot(data=tips, x='time', y='total_bill', hue='sex', palette='viridis')\n",
    "plt.title('Boxplot')\n",
    "plt.show()"
   ]
  },
  {
   "cell_type": "markdown",
   "metadata": {},
   "source": [
    "- Violin plot"
   ]
  },
  {
   "cell_type": "code",
   "execution_count": null,
   "metadata": {},
   "outputs": [],
   "source": [
    "# Violinplot\n",
    "sns.violinplot(data=tips, x='day', y='total_bill', palette='viridis')\n",
    "plt.title('Violinplot')\n",
    "plt.show()"
   ]
  },
  {
   "cell_type": "markdown",
   "metadata": {},
   "source": [
    "- Swarm plot"
   ]
  },
  {
   "cell_type": "code",
   "execution_count": null,
   "metadata": {},
   "outputs": [],
   "source": [
    "sns.swarmplot(data=tips, x='time', y='tip', dodge=True, palette='viridis', hue='sex', s=6)\n",
    "plt.title('SwarmPlot')\n",
    "plt.show()"
   ]
  },
  {
   "cell_type": "markdown",
   "metadata": {},
   "source": [
    "- StripPlot\n"
   ]
  },
  {
   "cell_type": "code",
   "execution_count": null,
   "metadata": {},
   "outputs": [],
   "source": [
    "#StripPlot\n",
    "sns.stripplot(data=tips, x='tip', hue='size', y='day', s=25, alpha=0.2, jitter=False, marker='D',palette='viridis')\n",
    "plt.title('StripPlot')\n",
    "plt.show()"
   ]
  },
  {
   "cell_type": "markdown",
   "metadata": {},
   "source": [
    "# 5) Multiple Plots using FacetGrid\n"
   ]
  },
  {
   "cell_type": "markdown",
   "metadata": {},
   "source": [
    "FacetGrid, a component of the seaborn library, enables the creation of multiple data subsets arranged in a grid format. Each plot within the grid represents a specific category, determined by the column names specified in the 'col' and 'row' attributes of FacetGrid().\n",
    "\n",
    "The plots within the grid can encompass various plot types supported by seaborn, including scatter plots, line plots, bar plots, and histograms.\n",
    "\n",
    "For example, we utilized exercise dataset"
   ]
  },
  {
   "cell_type": "code",
   "execution_count": null,
   "metadata": {},
   "outputs": [],
   "source": [
    "exercise.head()"
   ]
  },
  {
   "cell_type": "markdown",
   "metadata": {},
   "source": [
    "- Boxplots for pulse rate during different activities"
   ]
  },
  {
   "cell_type": "code",
   "execution_count": null,
   "metadata": {},
   "outputs": [],
   "source": [
    "# Creating subplots using FacetGrid\n",
    "g = sns.FacetGrid(exercise, col='kind', palette='Paired')\n",
    "\n",
    "# Drawing a plot on every facet\n",
    "g.map(sns.boxplot, 'pulse')\n",
    "g.set_titles(col_template=\"Pulse rate for {col_name}\")\n"
   ]
  },
  {
   "cell_type": "markdown",
   "metadata": {},
   "source": [
    "- Scatter plots for flipper length and body mass of Penguins from different islands"
   ]
  },
  {
   "cell_type": "markdown",
   "metadata": {},
   "source": [
    "For this plot, we utilized penguins dataset"
   ]
  },
  {
   "cell_type": "code",
   "execution_count": null,
   "metadata": {},
   "outputs": [],
   "source": [
    "penguins.head()"
   ]
  },
  {
   "cell_type": "code",
   "execution_count": null,
   "metadata": {},
   "outputs": [],
   "source": [
    "# Creating subplots using FacetGrid\n",
    "g = sns.FacetGrid(penguins, col='island', hue='sex', palette='Paired')\n",
    "\n",
    "# Drawing a plot on every facet\n",
    "g.map(sns.scatterplot, 'flipper_length_mm', 'body_mass_g')\n",
    "g.set_titles(template=\"Penguins of {col_name} Island\")\n",
    "g.add_legend()"
   ]
  },
  {
   "cell_type": "markdown",
   "metadata": {},
   "source": [
    "# 6) Joint Plots\n"
   ]
  },
  {
   "cell_type": "markdown",
   "metadata": {},
   "source": [
    "A joint plot consolidates various univariate and bivariate plots within one figure. The focal point usually features a scatter plot or a hexbin plot, illustrating the joint distribution of the two variables.\n",
    "\n",
    "Alongside, additional plots along the axes, such as histograms or Kernel Density Estimations (KDEs), depict the individual distributions of each variable.\n",
    "\n",
    "Let's use mpg dataset to see some examples."
   ]
  },
  {
   "cell_type": "markdown",
   "metadata": {},
   "source": [
    "- Comparison of the displacement and mpg for cars"
   ]
  },
  {
   "cell_type": "code",
   "execution_count": null,
   "metadata": {},
   "outputs": [],
   "source": [
    "# Hex Plot with Histogram margins\n",
    "sns.jointplot(x=\"mpg\", y=\"displacement\", data=mpg, height=5, kind='hex', ratio=2, marginal_ticks=True)"
   ]
  },
  {
   "cell_type": "markdown",
   "metadata": {},
   "source": [
    "- Comparison of acceleration and horsepower for cars from different countries"
   ]
  },
  {
   "cell_type": "code",
   "execution_count": null,
   "metadata": {},
   "outputs": [],
   "source": [
    "# Scatter Plot with KDE Margins\n",
    "sns.jointplot(x=\"horsepower\", y=\"acceleration\", data=mpg, hue=\"origin\", height=5, ratio=2, marginal_ticks=True)"
   ]
  },
  {
   "cell_type": "markdown",
   "metadata": {},
   "source": [
    "# 7) KDE Plots\n"
   ]
  },
  {
   "cell_type": "markdown",
   "metadata": {},
   "source": [
    "A KDE (Kernel Density Estimate) plot is a smoothed rendition of a histogram, showcasing the probability density function of a continuous random variable.\n",
    "\n",
    "The y-axis denotes the density or probability of observing a specific value of the variable, while the x-axis signifies the values of the variable itself."
   ]
  },
  {
   "cell_type": "markdown",
   "metadata": {},
   "source": [
    "- Comparing the horsepower of cars with respect to number of cylinders"
   ]
  },
  {
   "cell_type": "code",
   "execution_count": null,
   "metadata": {},
   "outputs": [],
   "source": [
    "#Overlapping KDE Plots\n",
    "sns.kdeplot(data=mpg, x='horsepower', hue='cylinders', fill=True,\n",
    "           palette='viridis', alpha=.5, linewidth=0)\n",
    "plt.title('Overlapping KDE Plot')\n",
    "plt.show()"
   ]
  },
  {
   "cell_type": "markdown",
   "metadata": {},
   "source": [
    "- Comparing the weight of cars across different countries"
   ]
  },
  {
   "cell_type": "code",
   "execution_count": null,
   "metadata": {},
   "outputs": [],
   "source": [
    "#Stacked KDE Plots\n",
    "sns.kdeplot(data=mpg, x=\"weight\", hue=\"origin\", multiple=\"stack\")\n",
    "plt.title('Stacked KDE Plot')\n",
    "plt.show()"
   ]
  },
  {
   "cell_type": "markdown",
   "metadata": {},
   "source": [
    "# 8) Pairplots"
   ]
  },
  {
   "cell_type": "markdown",
   "metadata": {},
   "source": [
    "A pair plot is a visualization technique that enables exploration of relationships between multiple variables within a dataset. It comprises a grid of scatter plots, where each variable is plotted against every other variable.\n",
    "\n",
    "Along the diagonal, histograms or density plots for each variable illustrate the distribution of values.\n"
   ]
  },
  {
   "cell_type": "markdown",
   "metadata": {},
   "source": [
    "- Visualisation of relationship between different features of penguins"
   ]
  },
  {
   "cell_type": "code",
   "execution_count": null,
   "metadata": {},
   "outputs": [],
   "source": [
    "#Simple Pairplot\n",
    "sns.pairplot(data=penguins, corner=True)"
   ]
  },
  {
   "cell_type": "code",
   "execution_count": null,
   "metadata": {},
   "outputs": [],
   "source": [
    "# Pairplot with hues\n",
    "sns.pairplot(data=penguins, hue='species')"
   ]
  },
  {
   "cell_type": "markdown",
   "metadata": {},
   "source": [
    "# 9) Heatmaps\n"
   ]
  },
  {
   "cell_type": "markdown",
   "metadata": {},
   "source": [
    "Heatmaps serve as visual representations utilizing color-coded cells to exhibit the values within a matrix or data table. \n",
    "\n",
    "Within a heatmap, the rows and columns of the matrix represent distinct variables, while the intensity of each cell's color depicts the magnitude or value of the data point at the intersection of those variables."
   ]
  },
  {
   "cell_type": "code",
   "execution_count": null,
   "metadata": {},
   "outputs": [],
   "source": [
    "#Selection of numeric columns from the dataset\n",
    "num_cols = list(mpg.select_dtypes(include='number'))\n",
    "fig = plt.figure(figsize=(12,7))\n",
    "\n",
    "#Correlation Heatmap\n",
    "sns.heatmap(data=mpg[num_cols].corr(), \n",
    "            annot=True, cmap=sns.cubehelix_palette(as_cmap=True))\n",
    "plt.title('Heatmap of Correlation matrix')\n",
    "plt.show()"
   ]
  },
  {
   "cell_type": "markdown",
   "metadata": {},
   "source": [
    "# 10) Scatter Plots\n"
   ]
  },
  {
   "cell_type": "markdown",
   "metadata": {},
   "source": [
    "A scatterplot illustrates the correlation between two continuous variables by plotting individual data points on a graph, where one variable is depicted on the x-axis and the other on the y-axis. \n",
    "\n",
    "The resulting plot displays multiple points scattered across the graph, hence earning the name \"scatterplot.\"\n",
    "\n",
    "Scatter plots serve several purposes in data analysis and visualization:\n",
    "\n",
    "- Visualizing Relationships: They help in understanding the relationship between two continuous variables. For example, they can reveal if there's a positive, negative, or no correlation between the variables.\n",
    "\n",
    "- Identifying Patterns: Scatter plots can help identify patterns or trends in data, such as clusters or outliers, which may not be apparent from summary statistics alone.\n",
    "\n",
    "- Assessing Correlation: They allow for a quick assessment of the strength and direction of the relationship between variables. Strong correlations often result in a more structured or linear arrangement of points, while weak correlations may result in a more scattered arrangement.\n",
    "\n",
    "- Checking for Linearity: Scatter plots are useful for assessing whether a linear model is appropriate for the data. If the points form a clear linear pattern, linear regression may be a suitable modeling technique.\n",
    "\n",
    "- Visualizing Distribution: Scatter plots provide insights into the distribution of data points along both the x-axis and y-axis, which can help in understanding the overall shape of the data distribution."
   ]
  },
  {
   "cell_type": "code",
   "execution_count": null,
   "metadata": {},
   "outputs": [],
   "source": [
    "# Simple Scatterplot\n",
    "sns.scatterplot(data=mpg, x='weight', y='horsepower', s=150, alpha=0.7)\n",
    "plt.title('Simple Scatterplot')\n",
    "plt.show()"
   ]
  },
  {
   "cell_type": "code",
   "execution_count": null,
   "metadata": {},
   "outputs": [],
   "source": [
    "# Scatterplot with Hue\n",
    "sns.scatterplot(data=mpg, x='weight', y='horsepower', s=150, alpha=0.7,\n",
    "               hue='origin', palette='viridis')\n",
    "plt.title('Scatterplot with Hue')\n",
    "plt.show()"
   ]
  },
  {
   "cell_type": "code",
   "execution_count": null,
   "metadata": {},
   "outputs": [],
   "source": [
    "# Scatterplot with Hue and Markers\n",
    "sns.scatterplot(data=mpg, x='weight', y='horsepower', s=150, alpha=0.7,\n",
    "              style='origin',palette='viridis', hue='origin')\n",
    "plt.title('Scatterplot with Hue and Markers')\n",
    "plt.show()"
   ]
  },
  {
   "cell_type": "code",
   "execution_count": null,
   "metadata": {},
   "outputs": [],
   "source": [
    "# Scatterplot with Hue & Size\n",
    "sns.scatterplot(data=mpg, x='weight', y='horsepower', sizes=(40, 400), alpha=.5,\n",
    "              palette='viridis', hue='origin', size='cylinders')\n",
    "plt.title('Scatterplot with Hue & Size')\n",
    "plt.show()"
   ]
  },
  {
   "cell_type": "markdown",
   "metadata": {},
   "source": [
    "# More details can be seen in the links below:"
   ]
  },
  {
   "cell_type": "markdown",
   "metadata": {},
   "source": [
    "1. [Bar Plots](https://seaborn.pydata.org/generated/seaborn.barplot.html)\n",
    "\n",
    "2. [Count Plots](https://seaborn.pydata.org/generated/seaborn.countplot.html)\n",
    "\n",
    "3. [Histograms](https://seaborn.pydata.org/generated/seaborn.histplot.html)\n",
    "\n",
    "4. [Cat Plots (Box, Violin, Swarm, Boxen)](https://seaborn.pydata.org/generated/seaborn.catplot.html)\n",
    "\n",
    "5. [Multiple Plots using FacetGrid](https://seaborn.pydata.org/generated/seaborn.FacetGrid.html)\n",
    "\n",
    "6. [Joint Plots](https://seaborn.pydata.org/generated/seaborn.jointplot.html)\n",
    "\n",
    "7. [KDE Plots](https://seaborn.pydata.org/generated/seaborn.kdeplot.html)\n",
    "\n",
    "8. [Pairplots](https://seaborn.pydata.org/generated/seaborn.pairplot.html)\n",
    "\n",
    "9. [Heatmaps](https://seaborn.pydata.org/generated/seaborn.heatmap.html)\n",
    "\n",
    "10.[ Scatter Plots](https://seaborn.pydata.org/generated/seaborn.scatterplot.html)"
   ]
  },
  {
   "cell_type": "markdown",
   "metadata": {},
   "source": [
    "## References"
   ]
  },
  {
   "cell_type": "markdown",
   "metadata": {},
   "source": [
    "1 - [Ten Must-Know Seaborn Plots](https://medium.com/@snehabajaj108/ten-must-know-seaborn-plots-1f3a82dc99c5);\n",
    "\n",
    "2 - [Seaborn: statistical data visualization](https://seaborn.pydata.org/index.html)"
   ]
  }
 ],
 "metadata": {
  "kernelspec": {
   "display_name": "Python 3 (ipykernel)",
   "language": "python",
   "name": "python3"
  },
  "language_info": {
   "codemirror_mode": {
    "name": "ipython",
    "version": 3
   },
   "file_extension": ".py",
   "mimetype": "text/x-python",
   "name": "python",
   "nbconvert_exporter": "python",
   "pygments_lexer": "ipython3",
   "version": "3.10.9"
  },
  "vscode": {
   "interpreter": {
    "hash": "9f7905b30e088604f73f345719b79ddd8931a31898d4871b1b46cc0220bd3bb8"
   }
  }
 },
 "nbformat": 4,
 "nbformat_minor": 2
}
